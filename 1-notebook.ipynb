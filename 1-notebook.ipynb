{
 "cells": [
  {
   "cell_type": "markdown",
   "id": "f8795816-a821-4947-b589-358e3b504106",
   "metadata": {
    "tags": []
   },
   "source": [
    "#### H1 heading "
   ]
  },
  {
   "cell_type": "markdown",
   "id": "6b03855b-3940-4041-a2e1-76892f794e84",
   "metadata": {},
   "source": [
    "In this notebook, Data Science Tools and Ecosystem are summarized."
   ]
  },
  {
   "cell_type": "markdown",
   "id": "6f7fad98-c04b-46c3-a54a-d60e240660a4",
   "metadata": {},
   "source": [
    "## Some of the popular languages that Data Scientists use are:\n",
    "    1- python\n",
    "    2- R \n",
    "   \n",
    "    "
   ]
  },
  {
   "cell_type": "markdown",
   "id": "f3e9f205-e044-4b13-a692-e98fae95b16d",
   "metadata": {},
   "source": [
    "## Some of the commonly used libraries used by Data Scientists include:\n",
    "*  [numpy]\n",
    "*   [pandas]\n",
    "* [tensorflow]\n"
   ]
  },
  {
   "cell_type": "markdown",
   "id": "572ef392-13dc-4162-b710-d23db7a6fdeb",
   "metadata": {},
   "source": [
    "# Data science tools\n",
    "| Tool | Description |\n",
    "|------|-------------|\n",
    "| Jupyter Notebook | An open-source web application for creating and sharing documents that contain live code, equations, visualizations and narrative text. |\n",
    "| Pandas | A software library for data manipulation and analysis. |\n",
    "| Scikit-learn | A machine learning library for Python. |\n",
    "| Matplotlib | A plotting library for Python. |\n",
    "| TensorFlow | An open-source platform for machine learning. |"
   ]
  },
  {
   "cell_type": "markdown",
   "id": "b304bc33-7b55-4994-9ca6-f49c4b8e511b",
   "metadata": {},
   "source": [
    "### Below are a few examples of evaluating arithmetic expressions in Python\n",
    "\n",
    "Addition: `3 + 2` returns `5`\n",
    "\n",
    "Subtraction: `3 - 2` returns `1`\n",
    "\n",
    "Multiplication: `3 * 2` returns `6`\n",
    "\n",
    "Division: `3 / 2` returns `1.5`\n",
    "\n",
    "Floor Division: `3 // 2` returns `1`\n",
    "\n",
    "Modulus: `3 % 2` returns `1`\n",
    "\n",
    "Exponentiation: `3 ** 2` returns `9`"
   ]
  },
  {
   "cell_type": "code",
   "execution_count": 6,
   "id": "31d40248-b81d-4fd4-8de8-9ddc4756ee14",
   "metadata": {},
   "outputs": [
    {
     "name": "stdout",
     "output_type": "stream",
     "text": [
      "17\n"
     ]
    }
   ],
   "source": [
    "x = 3\n",
    "y = 4\n",
    "z = 5\n",
    "\n",
    "result = x * y + z\n",
    "print(result)"
   ]
  },
  {
   "cell_type": "markdown",
   "id": "fdc57f8c-a6e7-43a0-a331-c1897cf5d6f4",
   "metadata": {},
   "source": [
    "# Objectives\n",
    "\n",
    "- Understand the basics of Python programming\n",
    "- Learn how to use Jupyter notebooks\n",
    "- Explore data analysis and visualization tools\n",
    "- Practice using machine learning algorithms\n"
   ]
  },
  {
   "cell_type": "code",
   "execution_count": 9,
   "id": "7f894a6e-1c4a-4ecc-bc9e-ee9a382d61a8",
   "metadata": {},
   "outputs": [
    {
     "name": "stdout",
     "output_type": "stream",
     "text": [
      "3.3333333333333335\n"
     ]
    }
   ],
   "source": [
    "minutes = 200\n",
    "# This will convert 200 minutes to hours by diving by 60\n",
    "hours = minutes / 60\n",
    "print(hours)\n"
   ]
  },
  {
   "cell_type": "markdown",
   "id": "24b70c90-d6de-47ca-bfba-ad3bc5475f86",
   "metadata": {},
   "source": [
    "**Author:** amin farahani\n"
   ]
  },
  {
   "cell_type": "code",
   "execution_count": null,
   "id": "31d613f9-5e2a-4a17-b511-9cf167b88453",
   "metadata": {},
   "outputs": [],
   "source": []
  }
 ],
 "metadata": {
  "kernelspec": {
   "display_name": "Python 3 (ipykernel)",
   "language": "python",
   "name": "python3"
  },
  "language_info": {
   "codemirror_mode": {
    "name": "ipython",
    "version": 3
   },
   "file_extension": ".py",
   "mimetype": "text/x-python",
   "name": "python",
   "nbconvert_exporter": "python",
   "pygments_lexer": "ipython3",
   "version": "3.9.13"
  }
 },
 "nbformat": 4,
 "nbformat_minor": 5
}
